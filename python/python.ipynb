{
 "cells": [
  {
   "cell_type": "markdown",
   "id": "994e523e-fe6a-4c66-905b-0f74732ce74b",
   "metadata": {},
   "source": [
    "# Intro to  Python"
   ]
  },
  {
   "cell_type": "markdown",
   "id": "f95f3cde-d1ca-4c09-9817-1ff317550de9",
   "metadata": {},
   "source": [
    "Python was developed by Guiddo van Rossum in 1991. The name of the python was given on the series name of Monty python's flying circus(this is a comedy show). \n",
    "To use python as a calculator write python and press enter in the terminal to use it as a REPL(Read Evaluate Print Loop)."
   ]
  },
  {
   "cell_type": "markdown",
   "id": "3f833ae4-9cac-4cc2-b785-69bb5cadcb83",
   "metadata": {},
   "source": [
    "## Comments"
   ]
  },
  {
   "cell_type": "code",
   "execution_count": null,
   "id": "abcca140-b5e3-4d3a-ba9c-c6d7a966162a",
   "metadata": {},
   "outputs": [],
   "source": [
    "Comments are used to write the things which the user do not want to execute. There are two  types of  comments:\n",
    "1. Single line comments: start with a (#)hash symbol.\n",
    "2.Multiline comments: start and ends with (''' ...''')or(\"\"\"....\"\"\").\n",
    "\n",
    "To print twinkle twinkle little star poem or any other poem with the break of line write that poem in the print function by using a multiline comments inside it.\n",
    "print('''Twinkle, twinkle, little star,\n",
    "How I wonder what you are!\n",
    "Up above the world so high,\n",
    "Like a diamond in the sky.\n",
    "\n",
    "When the blazing sun is gone,\n",
    "When he nothing shines upon,\n",
    "Then you show your little light,\n",
    "Twinkle, twinkle, all the night.\n",
    "\n",
    "Then the trav'ller in the dark,\n",
    "Thanks you for your tiny spark,\n",
    "He could not see which way to go,\n",
    "If you did not twinkle so.\n",
    "\n",
    "In the dark blue sky you keep,\n",
    "And often thro' my curtains peep,\n",
    "For you never shut your eye,\n",
    "Till the sun is in the sky.\n",
    "\n",
    "'Tis your bright and tiny spark,\n",
    "Lights the trav'ller in the dark:\n",
    "Tho' I know not what you are,\n",
    "Twinkle, twinkle, little star.''')\n",
    "\n",
    "on writing this it will give the same output as it is written in the given input."
   ]
  },
  {
   "cell_type": "code",
   "execution_count": 2,
   "id": "348c0fa7-669f-47ad-900e-851565457c61",
   "metadata": {},
   "outputs": [
    {
     "name": "stdout",
     "output_type": "stream",
     "text": [
      "Hello\n"
     ]
    }
   ],
   "source": [
    "print(\"Hello\") #print is the function which helps in printing the result"
   ]
  },
  {
   "cell_type": "markdown",
   "id": "4bd5902f-8222-4301-a5fa-5232d98dfff1",
   "metadata": {},
   "source": [
    "## Module and pip"
   ]
  },
  {
   "cell_type": "markdown",
   "id": "7c684a72-c620-42ff-9f0d-1782a69a3c2b",
   "metadata": {},
   "source": [
    "Module is simply a file containing Python code (functions, classes, and variables) that can be reused in other programs. Modules help organize code and make it reusable.\n",
    "Pip is a package manager for python.It is used to install a module in our system.  \n",
    "Moduules are of 2 types:\n",
    "1. built-in modules:these modules are pre installed in python. (example:os).\n",
    "2. external modules: these module are need to be install using pip.(example:tensorflow,flask).\n"
   ]
  },
  {
   "cell_type": "markdown",
   "id": "c1f83ca1-60b8-45d4-b6e8-83ce3b41bb6c",
   "metadata": {},
   "source": [
    "## Variables and data types"
   ]
  },
  {
   "cell_type": "markdown",
   "id": "0f534e23-5bfa-46ad-8115-263241a51de3",
   "metadata": {},
   "source": [
    "variables are name given to memory location in a program. \n",
    "Variables are the container to store the values.\n",
    "Keywords are the reserved words in python.\n",
    "Identifiers are the class/function/variable name.\n",
    "\n"
   ]
  },
  {
   "cell_type": "markdown",
   "id": "8d7e83f8-648f-4d10-b2ac-f23fecc7e006",
   "metadata": {},
   "source": [
    "### Rules for defining the variable name:(these rules are also applicable to the identifiers also)\n"
   ]
  },
  {
   "cell_type": "markdown",
   "id": "d2dbf2a4-2d4b-4235-b1d3-656d3124985b",
   "metadata": {},
   "source": [
    "1.Variable name can contain alphabets,digits and underscores.\n",
    "\n",
    "2.Variable name can start with an underscore or with the alphabet.\n",
    "\n",
    "3.Variable name can't start with the digits.\n",
    "\n",
    "4.No white spaces are allowed to use inside the variable name.\n",
    "\n",
    "examples:_sum,heaven_,one8,etc"
   ]
  },
  {
   "cell_type": "markdown",
   "id": "a6200918-3cf2-46a8-8172-42b91357329f",
   "metadata": {},
   "source": [
    "### DATA Types"
   ]
  },
  {
   "cell_type": "markdown",
   "id": "c09fd2dc-016e-47e6-956f-100f2156bd12",
   "metadata": {},
   "source": [
    "Data types are the types of data which are stored in the laptop.There is a benefit in a  Python that it automatically identifies the type of data.\n",
    "\n",
    "Data types are classified into 5 types:\n",
    "\n",
    "1.Integer\n",
    "2.Float\n",
    "3.String\n",
    "4.Boolean\n",
    "5.None"
   ]
  },
  {
   "cell_type": "markdown",
   "id": "aabfca1b-27ee-4f72-8d86-1f06cd890232",
   "metadata": {},
   "source": [
    "### Operators\n"
   ]
  },
  {
   "cell_type": "markdown",
   "id": "928aa246-f214-4ab1-973a-1c2ba85a53ef",
   "metadata": {},
   "source": [
    "Operators are the symbols which are used to perform the operations between one or more than one operand.\n",
    "    \n",
    "Operators are classified into 4 types:\n",
    "\n",
    "1.Arithmetic operator\n",
    "2.Assignment operator\n",
    "3.Relational Operator\n",
    "4.Logical operator"
   ]
  },
  {
   "cell_type": "markdown",
   "id": "170ab4ff-74c7-4e6e-acae-f4012cdc14af",
   "metadata": {},
   "source": [
    "### Type () Function and Typecasting"
   ]
  },
  {
   "cell_type": "markdown",
   "id": "1a60ca21-ed44-4d14-bfa0-485ee8a5339a",
   "metadata": {},
   "source": [
    "Type() function is used to find the data type of the given function.\n"
   ]
  },
  {
   "cell_type": "code",
   "execution_count": 6,
   "id": "3537de6d-51e8-4420-a627-c0bc97af7d01",
   "metadata": {},
   "outputs": [
    {
     "data": {
      "text/plain": [
       "int"
      ]
     },
     "execution_count": 6,
     "metadata": {},
     "output_type": "execute_result"
    }
   ],
   "source": [
    "#example:\n",
    "\n",
    "a=5\n",
    "type(a)"
   ]
  },
  {
   "cell_type": "code",
   "execution_count": 8,
   "id": "64ae935a-fce3-4359-9ae6-05cfed3e7583",
   "metadata": {},
   "outputs": [
    {
     "data": {
      "text/plain": [
       "str"
      ]
     },
     "execution_count": 8,
     "metadata": {},
     "output_type": "execute_result"
    }
   ],
   "source": [
    "word=\"hello\"\n",
    "type(word)\n"
   ]
  },
  {
   "cell_type": "code",
   "execution_count": 9,
   "id": "24b6631b-d43b-433d-b05c-5a3a13dd9ff1",
   "metadata": {},
   "outputs": [
    {
     "data": {
      "text/plain": [
       "float"
      ]
     },
     "execution_count": 9,
     "metadata": {},
     "output_type": "execute_result"
    }
   ],
   "source": [
    "b=8.45\n",
    "type(b)"
   ]
  },
  {
   "cell_type": "markdown",
   "id": "3aa4c03d-1aa0-4461-b2b3-aae612ff6669",
   "metadata": {},
   "source": [
    "Typecasting helps in converting the one datatype to another datatype."
   ]
  },
  {
   "cell_type": "code",
   "execution_count": 13,
   "id": "8351c3f4-60ba-412f-86a4-91de7fa82602",
   "metadata": {},
   "outputs": [
    {
     "data": {
      "text/plain": [
       "int"
      ]
     },
     "execution_count": 13,
     "metadata": {},
     "output_type": "execute_result"
    }
   ],
   "source": [
    "#example\n",
    "a=5\n",
    "b=str (a)\n",
    "type (b)\n"
   ]
  },
  {
   "cell_type": "code",
   "execution_count": 14,
   "id": "8f186ed2-8b67-42ef-abef-254443dc12b3",
   "metadata": {},
   "outputs": [
    {
     "name": "stdout",
     "output_type": "stream",
     "text": [
      "5.0\n"
     ]
    }
   ],
   "source": [
    "a=5\n",
    "b=float (a)\n",
    "print(b)"
   ]
  },
  {
   "cell_type": "markdown",
   "id": "cd4abbed-1fb6-4fe7-bfc4-5e0407794cd1",
   "metadata": {},
   "source": [
    "### input() function"
   ]
  },
  {
   "cell_type": "code",
   "execution_count": null,
   "id": "8fae36a8-edf9-4376-9ed2-032ed0ef8f22",
   "metadata": {},
   "outputs": [],
   "source": [
    "It is used to take the input from the user as a string"
   ]
  },
  {
   "cell_type": "code",
   "execution_count": 17,
   "id": "c0e0830b-e871-4542-aa8f-fc14adca94ce",
   "metadata": {},
   "outputs": [
    {
     "name": "stdin",
     "output_type": "stream",
     "text": [
      "enter a 5\n",
      "enter b 6\n"
     ]
    },
    {
     "name": "stdout",
     "output_type": "stream",
     "text": [
      "56\n"
     ]
    }
   ],
   "source": [
    "#example\n",
    "a=input(\"enter a\")\n",
    "b=input(\"enter b\")\n",
    "sum=a+b\n",
    "print(sum)\n"
   ]
  },
  {
   "cell_type": "markdown",
   "id": "9680aa3c-1f18-4cea-ae20-4e1dad3508ca",
   "metadata": {},
   "source": [
    "to make the string from int we use typecasting method in the input() method"
   ]
  },
  {
   "cell_type": "code",
   "execution_count": 18,
   "id": "7c698d82-0edf-438d-a98b-178a005f6faf",
   "metadata": {},
   "outputs": [
    {
     "name": "stdin",
     "output_type": "stream",
     "text": [
      "enter a 5\n",
      "enter b 6\n"
     ]
    },
    {
     "name": "stdout",
     "output_type": "stream",
     "text": [
      "11\n"
     ]
    }
   ],
   "source": [
    "#example\n",
    "a=int(input(\"enter a\"))\n",
    "b=int(input(\"enter b\"))\n",
    "sum=a+b\n",
    "print(sum)\n"
   ]
  },
  {
   "cell_type": "markdown",
   "id": "fbf08ecb-820f-452c-a9cd-5e056dc1728a",
   "metadata": {},
   "source": [
    "## Strings"
   ]
  },
  {
   "cell_type": "code",
   "execution_count": null,
   "id": "931c4274-2ec6-4a19-a623-37fbdd029284",
   "metadata": {},
   "outputs": [],
   "source": [
    "String is a sequence of characters enclosed in quotes.\n",
    "String can be represented in 3 types:\n",
    "1.with single quotes, examaple:'Harry'\n",
    "2.with double quotes, example:\"Harry\"\n",
    "3.with triple quotes, example:'''Harry'''\n"
   ]
  }
 ],
 "metadata": {
  "kernelspec": {
   "display_name": "Python 3 (ipykernel)",
   "language": "python",
   "name": "python3"
  },
  "language_info": {
   "codemirror_mode": {
    "name": "ipython",
    "version": 3
   },
   "file_extension": ".py",
   "mimetype": "text/x-python",
   "name": "python",
   "nbconvert_exporter": "python",
   "pygments_lexer": "ipython3",
   "version": "3.13.1"
  }
 },
 "nbformat": 4,
 "nbformat_minor": 5
}

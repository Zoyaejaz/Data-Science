{
 "cells": [
  {
   "cell_type": "markdown",
   "id": "d07271bc-d696-4f15-84d8-41011d26948a",
   "metadata": {},
   "source": [
    "# Variables and Datatypes"
   ]
  },
  {
   "cell_type": "code",
   "execution_count": 1,
   "id": "f5a7ef59-14ea-417d-85f2-be0f9c5b1763",
   "metadata": {},
   "outputs": [
    {
     "name": "stdout",
     "output_type": "stream",
     "text": [
      "15\n"
     ]
    }
   ],
   "source": [
    "#Question1: Write a Python program to add two numbers\n",
    "a=5\n",
    "b=10\n",
    "sum=a+b\n",
    "print(sum)"
   ]
  },
  {
   "cell_type": "code",
   "execution_count": 2,
   "id": "1e2d3736-cd35-4fa4-b4b9-b61131d1acda",
   "metadata": {},
   "outputs": [
    {
     "name": "stdout",
     "output_type": "stream",
     "text": [
      "1\n"
     ]
    }
   ],
   "source": [
    "#Qustion2: Write a python program to find reminder when a number is divided by 2\n",
    "a=5\n",
    "num=a%2\n",
    "print(num)"
   ]
  },
  {
   "cell_type": "code",
   "execution_count": 3,
   "id": "22c2cc00-816d-462d-9ba9-f10060b1015e",
   "metadata": {},
   "outputs": [
    {
     "name": "stdin",
     "output_type": "stream",
     "text": [
      "Enter the value: 4\n"
     ]
    },
    {
     "name": "stdout",
     "output_type": "stream",
     "text": [
      "<class 'str'>\n"
     ]
    }
   ],
   "source": [
    "#Question3 : Check the type of the variable assigned using input() function\n",
    "var= input(\"Enter the value:\")\n",
    "print(type(var))"
   ]
  },
  {
   "cell_type": "code",
   "execution_count": 5,
   "id": "fa36e0d1-9a01-41dc-9c84-99b23fff865b",
   "metadata": {},
   "outputs": [
    {
     "name": "stdout",
     "output_type": "stream",
     "text": [
      "False\n"
     ]
    }
   ],
   "source": [
    "#Question4 : Use Comparison Operators to find out whether a given variable 'a' is greater than 'b' or not. Take a=34 and b=80\n",
    "a=38\n",
    "b=80\n",
    "print(a>b)"
   ]
  },
  {
   "cell_type": "code",
   "execution_count": 7,
   "id": "0091b352-184d-48df-9f78-66706341808d",
   "metadata": {},
   "outputs": [
    {
     "name": "stdin",
     "output_type": "stream",
     "text": [
      "Enter the value of a 3\n",
      "Enter the value of b 7\n"
     ]
    },
    {
     "name": "stdout",
     "output_type": "stream",
     "text": [
      "5.0\n"
     ]
    }
   ],
   "source": [
    "#Question5 : Write a python program to find average of two numbers entered by the user\n",
    "a=int(input(\"Enter the value of a\"))\n",
    "b=int(input(\"Enter the value of b\"))\n",
    "avg=(a+b)/2\n",
    "print(avg)"
   ]
  },
  {
   "cell_type": "code",
   "execution_count": 8,
   "id": "5a199510-a3bc-4b6b-9aa7-503dacfa3721",
   "metadata": {},
   "outputs": [
    {
     "name": "stdin",
     "output_type": "stream",
     "text": [
      "Enter the value of a 3\n"
     ]
    },
    {
     "name": "stdout",
     "output_type": "stream",
     "text": [
      "9\n"
     ]
    }
   ],
   "source": [
    "#Question5 : Write a python program to calculte square of a number entered by the user\n",
    "a=int(input(\"Enter the value of a\"))\n",
    "sq=a*a\n",
    "print(sq)\n"
   ]
  },
  {
   "cell_type": "code",
   "execution_count": null,
   "id": "7b4ab323-c139-4850-82b0-75e803958ce0",
   "metadata": {},
   "outputs": [],
   "source": []
  }
 ],
 "metadata": {
  "kernelspec": {
   "display_name": "Python 3 (ipykernel)",
   "language": "python",
   "name": "python3"
  },
  "language_info": {
   "codemirror_mode": {
    "name": "ipython",
    "version": 3
   },
   "file_extension": ".py",
   "mimetype": "text/x-python",
   "name": "python",
   "nbconvert_exporter": "python",
   "pygments_lexer": "ipython3",
   "version": "3.13.1"
  }
 },
 "nbformat": 4,
 "nbformat_minor": 5
}
